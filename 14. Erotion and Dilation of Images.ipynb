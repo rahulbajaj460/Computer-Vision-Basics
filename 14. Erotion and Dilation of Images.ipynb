{
 "cells": [
  {
   "cell_type": "code",
   "execution_count": 1,
   "metadata": {},
   "outputs": [],
   "source": [
    "import cv2\n",
    "import numpy as np"
   ]
  },
  {
   "cell_type": "code",
   "execution_count": 2,
   "metadata": {},
   "outputs": [],
   "source": [
    "img1 = cv2.imread(\"tiger.png\")\n",
    "cv2.imshow(\"Original image\",img1)\n",
    "cv2.waitKey(5000)\n",
    "cv2.destroyAllWindows()"
   ]
  },
  {
   "cell_type": "markdown",
   "metadata": {},
   "source": [
    "### Image Erosion"
   ]
  },
  {
   "cell_type": "code",
   "execution_count": 3,
   "metadata": {},
   "outputs": [],
   "source": [
    "kernel = np.array((5,5),np.uint8)\n",
    "img2 = cv2.erode(img1,kernel,iterations=1)\n",
    "cv2.imshow(\"Original image\",img1)\n",
    "cv2.imshow(\"Erosion\",img2)\n",
    "cv2.waitKey(10000)\n",
    "cv2.destroyAllWindows()"
   ]
  },
  {
   "cell_type": "markdown",
   "metadata": {},
   "source": [
    "### Image Dilation"
   ]
  },
  {
   "cell_type": "code",
   "execution_count": 4,
   "metadata": {},
   "outputs": [],
   "source": [
    "kernel = np.array((5,5),np.uint8)\n",
    "img3 = cv2.dilate(img1,kernel,iterations=1)\n",
    "cv2.imshow(\"Original image\",img1)\n",
    "cv2.imshow(\"Dilation\",img3)\n",
    "cv2.waitKey(10000)\n",
    "cv2.destroyAllWindows()"
   ]
  },
  {
   "cell_type": "markdown",
   "metadata": {},
   "source": [
    "### Opening -> First apply Erosion and then Dilation on that image"
   ]
  },
  {
   "cell_type": "code",
   "execution_count": 5,
   "metadata": {},
   "outputs": [],
   "source": [
    "kernel = np.array((5,5),np.uint8)\n",
    "img4 = cv2.morphologyEx(img1, cv2.MORPH_OPEN, kernel)\n",
    "cv2.imshow(\"Original image\",img1)\n",
    "cv2.imshow(\"Opening\",img4)\n",
    "cv2.waitKey(10000)\n",
    "cv2.destroyAllWindows()"
   ]
  },
  {
   "cell_type": "markdown",
   "metadata": {},
   "source": [
    "### Closing -> First apply Dilation and then Erosion on that image"
   ]
  },
  {
   "cell_type": "code",
   "execution_count": 6,
   "metadata": {},
   "outputs": [],
   "source": [
    "kernel = np.array((5,5),np.uint8)\n",
    "img5 = cv2.morphologyEx(img1, cv2.MORPH_CLOSE, kernel)\n",
    "cv2.imshow(\"Original image\",img1)\n",
    "cv2.imshow(\"Closing\",img5)\n",
    "cv2.waitKey(10000)\n",
    "cv2.destroyAllWindows()"
   ]
  },
  {
   "cell_type": "code",
   "execution_count": null,
   "metadata": {},
   "outputs": [],
   "source": []
  }
 ],
 "metadata": {
  "kernelspec": {
   "display_name": "Python 3",
   "language": "python",
   "name": "python3"
  },
  "language_info": {
   "codemirror_mode": {
    "name": "ipython",
    "version": 3
   },
   "file_extension": ".py",
   "mimetype": "text/x-python",
   "name": "python",
   "nbconvert_exporter": "python",
   "pygments_lexer": "ipython3",
   "version": "3.7.4"
  }
 },
 "nbformat": 4,
 "nbformat_minor": 2
}
