{
 "cells": [
  {
   "cell_type": "code",
   "execution_count": 1,
   "metadata": {},
   "outputs": [],
   "source": [
    "import cv2\n",
    "import numpy as np"
   ]
  },
  {
   "cell_type": "code",
   "execution_count": 2,
   "metadata": {},
   "outputs": [],
   "source": [
    "img1 = cv2.imread(\"tiger.png\")\n",
    "cv2.imshow(\"Frame 1\",img1)\n",
    "cv2.waitKey(10000)\n",
    "cv2.destroyAllWindows()"
   ]
  },
  {
   "cell_type": "markdown",
   "metadata": {},
   "source": [
    "## Method 1 :- Interpolation"
   ]
  },
  {
   "cell_type": "code",
   "execution_count": 3,
   "metadata": {},
   "outputs": [],
   "source": [
    "img2 = cv2.resize(img1,None,fx=1.5,fy=1.5,interpolation=cv2.INTER_LINEAR)\n",
    "cv2.imshow(\"Linear\",img2)\n",
    "## It is the default method.\n",
    "\n",
    "img3 = cv2.resize(img1,None,fx=1.5,fy=1.5,interpolation=cv2.INTER_AREA)\n",
    "cv2.imshow(\"Area\",img3)\n",
    "## It is generally used for reducing or shrinking the image\n",
    "\n",
    "img4 = cv2.resize(img1,None,fx=1.5,fy=1.5,interpolation=cv2.INTER_CUBIC)\n",
    "cv2.imshow(\"Cubic\",img4)\n",
    "## It is generally used for increasing the size of the image.\n",
    "\n",
    "img5 = cv2.resize(img1,None,fx=1.5,fy=1.5,interpolation=cv2.INTER_NEAREST)\n",
    "cv2.imshow(\"Nearest\",img5)\n",
    "\n",
    "img6 = cv2.resize(img1,None,fx=1.5,fy=1.5,interpolation=cv2.INTER_LANCZOS4)\n",
    "cv2.imshow(\"Lanczos4\",img6)\n",
    "## This method generally gives best result of all.\n",
    "\n",
    "cv2.waitKey(10000)\n",
    "cv2.destroyAllWindows()"
   ]
  },
  {
   "cell_type": "markdown",
   "metadata": {},
   "source": [
    "## Method 2 :- Pyramid Method"
   ]
  },
  {
   "cell_type": "code",
   "execution_count": 4,
   "metadata": {},
   "outputs": [],
   "source": [
    "img7 = cv2.pyrUp(img1)\n",
    "cv2.imshow(\"Pyrup\",img7)\n",
    "## It increases the size of the image by double.\n",
    "\n",
    "img8 = cv2.pyrDown(img1)\n",
    "cv2.imshow(\"Pyrdown\",img8)\n",
    "## It decreases the size of the image bu half.\n",
    "\n",
    "cv2.waitKey(10000)\n",
    "cv2.destroyAllWindows()"
   ]
  },
  {
   "cell_type": "code",
   "execution_count": null,
   "metadata": {},
   "outputs": [],
   "source": []
  }
 ],
 "metadata": {
  "kernelspec": {
   "display_name": "Python 3",
   "language": "python",
   "name": "python3"
  },
  "language_info": {
   "codemirror_mode": {
    "name": "ipython",
    "version": 3
   },
   "file_extension": ".py",
   "mimetype": "text/x-python",
   "name": "python",
   "nbconvert_exporter": "python",
   "pygments_lexer": "ipython3",
   "version": "3.7.4"
  }
 },
 "nbformat": 4,
 "nbformat_minor": 2
}
