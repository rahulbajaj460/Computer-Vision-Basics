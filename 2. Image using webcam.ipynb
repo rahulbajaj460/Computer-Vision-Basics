{
 "cells": [
  {
   "cell_type": "code",
   "execution_count": 1,
   "metadata": {},
   "outputs": [],
   "source": [
    "import cv2"
   ]
  },
  {
   "cell_type": "markdown",
   "metadata": {},
   "source": [
    "## Starting the camera"
   ]
  },
  {
   "cell_type": "code",
   "execution_count": 2,
   "metadata": {},
   "outputs": [],
   "source": [
    "image = cv2.VideoCapture(0)\n",
    "\n",
    "## VideoCapture() is used to get video capture object from camera"
   ]
  },
  {
   "cell_type": "markdown",
   "metadata": {},
   "source": [
    "## Reading the image"
   ]
  },
  {
   "cell_type": "code",
   "execution_count": 3,
   "metadata": {},
   "outputs": [],
   "source": [
    "check, frame = image.read()\n",
    "\n",
    "## check tells the condition that whether it is working or not\n",
    "## frame is the matrix of the image"
   ]
  },
  {
   "cell_type": "code",
   "execution_count": 4,
   "metadata": {},
   "outputs": [],
   "source": [
    "cv2.imshow(\"Image\",frame)\n",
    "cv2.waitKey(5000)\n",
    "cv2.destroyAllWindows()"
   ]
  },
  {
   "cell_type": "code",
   "execution_count": 5,
   "metadata": {},
   "outputs": [
    {
     "name": "stdout",
     "output_type": "stream",
     "text": [
      "(480, 640, 3)\n"
     ]
    }
   ],
   "source": [
    "print(frame.shape)"
   ]
  },
  {
   "cell_type": "markdown",
   "metadata": {},
   "source": [
    "## Saving the image"
   ]
  },
  {
   "cell_type": "code",
   "execution_count": 6,
   "metadata": {},
   "outputs": [
    {
     "data": {
      "text/plain": [
       "True"
      ]
     },
     "execution_count": 6,
     "metadata": {},
     "output_type": "execute_result"
    }
   ],
   "source": [
    "cv2.imwrite(\"my_file.jpg\",frame)"
   ]
  },
  {
   "cell_type": "markdown",
   "metadata": {},
   "source": [
    "## Closing the camera"
   ]
  },
  {
   "cell_type": "code",
   "execution_count": 7,
   "metadata": {},
   "outputs": [],
   "source": [
    "image.release()\n",
    "cv2.destroyAllWindows()\n",
    "\n",
    "## release() is used to close the capturing device"
   ]
  },
  {
   "cell_type": "markdown",
   "metadata": {},
   "source": [
    "# Working with Videos"
   ]
  },
  {
   "cell_type": "code",
   "execution_count": 8,
   "metadata": {},
   "outputs": [],
   "source": [
    "## This block is for only when you want to capture images frame by frame\n",
    "\n",
    "image = cv2.VideoCapture(0)\n",
    "while(True):\n",
    "    check, frame = image.read()\n",
    "    cv2.imshow(\"Video\",frame)\n",
    "    if (cv2.waitKey() == ord(\"q\")):\n",
    "        break\n",
    "        \n",
    "cv2.destroyAllWindows()\n",
    "\n",
    "## The while loop is exited only when \"q\" key is pressed.\n",
    "## If any other key is pressed, the image will capture the next frame.\n",
    "## To save the files, we can use imwrite() function in the while loop."
   ]
  },
  {
   "cell_type": "code",
   "execution_count": 9,
   "metadata": {},
   "outputs": [],
   "source": [
    "## To have a video\n",
    "image = cv2.VideoCapture(0)\n",
    "while(True):\n",
    "    check, frame = image.read()\n",
    "    cv2.imshow(\"Video\",frame)\n",
    "    if (cv2.waitKey(1) == ord(\"q\")):\n",
    "        break\n",
    "        \n",
    "image.release()        \n",
    "cv2.destroyAllWindows()\n",
    "\n",
    "## In the waitkey() fnction, pass argument as 1 to have a video frame."
   ]
  },
  {
   "cell_type": "markdown",
   "metadata": {},
   "source": [
    "## Writing videos to disk"
   ]
  },
  {
   "cell_type": "markdown",
   "metadata": {},
   "source": [
    "Refer to this link   :-   http://fourcc.org/codecs.php"
   ]
  },
  {
   "cell_type": "code",
   "execution_count": 10,
   "metadata": {},
   "outputs": [],
   "source": [
    "## To have a video\n",
    "image = cv2.VideoCapture(0)\n",
    "fourcc_code = cv2.VideoWriter_fourcc(*\"XVID\")\n",
    "video = cv2.VideoWriter(\"myvideo.mp4\",fourcc_code,20,(640,480))\n",
    "while(True):\n",
    "    check, frame = image.read()\n",
    "    video.write(frame)\n",
    "    cv2.imshow(\"Video\",frame)\n",
    "    if (cv2.waitKey(1) == ord(\"q\")):\n",
    "        break\n",
    "        \n",
    "video.release()\n",
    "image.release()\n",
    "cv2.destroyAllWindows()\n",
    "\n",
    "## Here, 20 is the frames per second.\n",
    "## 640,480 is the size of the video frame.\n",
    "## We also have to release the video object."
   ]
  },
  {
   "cell_type": "markdown",
   "metadata": {},
   "source": [
    "# Using Webcam from mobile"
   ]
  },
  {
   "cell_type": "markdown",
   "metadata": {},
   "source": [
    "Step 1. Install the application \"IP Webcam\" from Playstore."
   ]
  },
  {
   "cell_type": "markdown",
   "metadata": {},
   "source": [
    "Step 2. When the application gets installed, open it and at the last, you will see start server button."
   ]
  },
  {
   "cell_type": "markdown",
   "metadata": {},
   "source": [
    "Step 3. After clicking, you can see the camera on and at the bottom, you will see some addresses like IPv4, IPv6. "
   ]
  },
  {
   "cell_type": "markdown",
   "metadata": {},
   "source": [
    "Step 4. Use the IPv4 address which will be like \"http://192.168.0.100:8080\" and copy it as the parameter to the VideoCapture() function and add \"/video\" to it, instead of passing 0 as the parameter."
   ]
  },
  {
   "cell_type": "markdown",
   "metadata": {},
   "source": [
    "Note :- Let the IP Webcam application be on. Don't close it until capturing is done."
   ]
  },
  {
   "cell_type": "code",
   "execution_count": null,
   "metadata": {},
   "outputs": [],
   "source": [
    "image = cv2.VideoCapture(\"http://192.168.0.100:8080/video\")\n",
    "fourcc_code = cv2.VideoWriter_fourcc(*\"XVID\")\n",
    "video = cv2.VideoWriter(\"myvideo.mp4\",fourcc_code,20,(1920,1080))\n",
    "while(True):\n",
    "    check, frame = image.read()\n",
    "    video.write(frame)\n",
    "    cv2.imshow(\"Video\",frame)\n",
    "    if (cv2.waitKey(1) == ord(\"q\")):\n",
    "        break\n",
    "        \n",
    "video.release()\n",
    "image.release()\n",
    "cv2.destroyAllWindows()"
   ]
  },
  {
   "cell_type": "code",
   "execution_count": null,
   "metadata": {},
   "outputs": [],
   "source": []
  }
 ],
 "metadata": {
  "kernelspec": {
   "display_name": "Python 3",
   "language": "python",
   "name": "python3"
  },
  "language_info": {
   "codemirror_mode": {
    "name": "ipython",
    "version": 3
   },
   "file_extension": ".py",
   "mimetype": "text/x-python",
   "name": "python",
   "nbconvert_exporter": "python",
   "pygments_lexer": "ipython3",
   "version": "3.7.4"
  }
 },
 "nbformat": 4,
 "nbformat_minor": 2
}
