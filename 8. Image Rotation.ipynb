{
 "cells": [
  {
   "cell_type": "code",
   "execution_count": 1,
   "metadata": {},
   "outputs": [],
   "source": [
    "import cv2\n",
    "import numpy as np"
   ]
  },
  {
   "cell_type": "code",
   "execution_count": 2,
   "metadata": {},
   "outputs": [],
   "source": [
    "img1 = cv2.imread(\"tiger.png\")\n",
    "cv2.imshow(\"Frame 1\",img1)\n",
    "cv2.waitKey(10000)\n",
    "cv2.destroyAllWindows()"
   ]
  },
  {
   "cell_type": "code",
   "execution_count": 3,
   "metadata": {},
   "outputs": [],
   "source": [
    "row,col,channels = img1.shape"
   ]
  },
  {
   "cell_type": "code",
   "execution_count": 4,
   "metadata": {},
   "outputs": [],
   "source": [
    "R = cv2.getRotationMatrix2D((row/2,col/2),45,1)\n",
    "\n",
    "## Here, (row/2,col/2) is the center of the image from where we want to rotate the image.\n",
    "## 45 is the angle of the rotation.\n",
    "## 1 is the scaling factor which can be changed as per our reqirement."
   ]
  },
  {
   "cell_type": "code",
   "execution_count": 5,
   "metadata": {},
   "outputs": [],
   "source": [
    "## It is implemented using the function warpAffine()\n",
    "\n",
    "img2 = cv2.warpAffine(img1,R,(col,row))\n",
    "cv2.imshow(\"Rotated image\",img2)\n",
    "cv2.waitKey(10000)\n",
    "cv2.destroyAllWindows()"
   ]
  },
  {
   "cell_type": "markdown",
   "metadata": {},
   "source": [
    "## Giving animation to the image"
   ]
  },
  {
   "cell_type": "code",
   "execution_count": 6,
   "metadata": {},
   "outputs": [],
   "source": [
    "angle = 0\n",
    "\n",
    "while(True):\n",
    "    if(angle==360):\n",
    "        angle=0\n",
    "    R = cv2.getRotationMatrix2D((row/2,col/4),angle,1)\n",
    "    img2 = cv2.warpAffine(img1,R,(col,row))\n",
    "    cv2.imshow(\"Rotated image\",img2)\n",
    "    k = cv2.waitKey(1)\n",
    "    if (k==ord('q')):\n",
    "        break\n",
    "    angle=angle+1\n",
    "cv2.destroyAllWindows()\n",
    "\n",
    "## Press q to come out of this for loop"
   ]
  },
  {
   "cell_type": "code",
   "execution_count": null,
   "metadata": {},
   "outputs": [],
   "source": []
  }
 ],
 "metadata": {
  "kernelspec": {
   "display_name": "Python 3",
   "language": "python",
   "name": "python3"
  },
  "language_info": {
   "codemirror_mode": {
    "name": "ipython",
    "version": 3
   },
   "file_extension": ".py",
   "mimetype": "text/x-python",
   "name": "python",
   "nbconvert_exporter": "python",
   "pygments_lexer": "ipython3",
   "version": "3.7.4"
  }
 },
 "nbformat": 4,
 "nbformat_minor": 2
}
