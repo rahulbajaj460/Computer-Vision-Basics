{
 "cells": [
  {
   "cell_type": "code",
   "execution_count": 1,
   "metadata": {},
   "outputs": [],
   "source": [
    "import cv2\n",
    "import numpy as np"
   ]
  },
  {
   "cell_type": "code",
   "execution_count": 2,
   "metadata": {},
   "outputs": [],
   "source": [
    "img1 = cv2.imread(\"tiger.png\")\n",
    "cv2.imshow(\"Original image\",img1)\n",
    "cv2.waitKey(5000)\n",
    "cv2.destroyAllWindows()"
   ]
  },
  {
   "cell_type": "markdown",
   "metadata": {},
   "source": [
    "#### Pyramid -> A method of scaling of images"
   ]
  },
  {
   "cell_type": "code",
   "execution_count": 3,
   "metadata": {},
   "outputs": [],
   "source": [
    "img2 = cv2.pyrDown(img1)\n",
    "cv2.imshow(\"Original image\",img1)\n",
    "cv2.imshow(\"PyrDown image\",img2)\n",
    "cv2.waitKey(10000)\n",
    "cv2.destroyAllWindows()"
   ]
  },
  {
   "cell_type": "code",
   "execution_count": 4,
   "metadata": {},
   "outputs": [],
   "source": [
    "img3 = cv2.pyrUp(img1)\n",
    "cv2.imshow(\"Original image\",img1)\n",
    "cv2.imshow(\"PyrUp image\",img3)\n",
    "cv2.waitKey(10000)\n",
    "cv2.destroyAllWindows()"
   ]
  },
  {
   "cell_type": "code",
   "execution_count": 5,
   "metadata": {},
   "outputs": [],
   "source": [
    "def gaussian(image):\n",
    "    gp = [image]                              ## creating list of image\n",
    "    for i in range(6):                        ## applying the function pyrDown on the image for 6 times.\n",
    "        image = cv2.pyrDown(image)\n",
    "        gp.append(image)\n",
    "        cv2.imshow(str(i),gp[i])\n",
    "    cv2.waitKey(10000)\n",
    "    cv2.destroyAllWindows()\n",
    "          \n",
    "gaussian(img1)"
   ]
  },
  {
   "cell_type": "code",
   "execution_count": 6,
   "metadata": {},
   "outputs": [],
   "source": [
    "## This function helps in detecting edges in the image\n",
    "def laplacian(image):\n",
    "    gp = [image]                              ## creating list of image\n",
    "    for i in range(6):                        ## applying the function pyrDown on the image for 6 times.\n",
    "        image = cv2.pyrDown(image)\n",
    "        gp.append(image)\n",
    "    lp = [gp[5]]\n",
    "    for i in range(5,0,-1):\n",
    "        gauss_expand = cv2.pyrUp(gp[i])\n",
    "        lap = cv2.subtract(gp[i-1],gauss_expand)\n",
    "        lp.append(lap)\n",
    "        cv2.imshow(str(i),lap)\n",
    "    cv2.waitKey(20000)\n",
    "    cv2.destroyAllWindows()\n",
    "\n",
    "laplacian(img1)"
   ]
  },
  {
   "cell_type": "code",
   "execution_count": null,
   "metadata": {},
   "outputs": [],
   "source": []
  }
 ],
 "metadata": {
  "kernelspec": {
   "display_name": "Python 3",
   "language": "python",
   "name": "python3"
  },
  "language_info": {
   "codemirror_mode": {
    "name": "ipython",
    "version": 3
   },
   "file_extension": ".py",
   "mimetype": "text/x-python",
   "name": "python",
   "nbconvert_exporter": "python",
   "pygments_lexer": "ipython3",
   "version": "3.7.4"
  }
 },
 "nbformat": 4,
 "nbformat_minor": 2
}
