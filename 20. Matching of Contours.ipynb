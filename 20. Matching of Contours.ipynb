{
 "cells": [
  {
   "cell_type": "code",
   "execution_count": 1,
   "metadata": {},
   "outputs": [],
   "source": [
    "import cv2\n",
    "import numpy as np"
   ]
  },
  {
   "cell_type": "code",
   "execution_count": 2,
   "metadata": {},
   "outputs": [],
   "source": [
    "original_image = cv2.imread(\"shapes.jpg\")\n",
    "template_image = cv2.imread(\"template.jpg\")\n",
    "cv2.imshow(\"Original image\",original_image)\n",
    "cv2.imshow(\"Template image\",template_image)\n",
    "cv2.waitKey(5000)\n",
    "cv2.destroyAllWindows()"
   ]
  },
  {
   "cell_type": "code",
   "execution_count": 3,
   "metadata": {},
   "outputs": [],
   "source": [
    "img1 = cv2.cvtColor(original_image,cv2.COLOR_BGR2GRAY)\n",
    "img2 = cv2.cvtColor(template_image,cv2.COLOR_BGR2GRAY)"
   ]
  },
  {
   "cell_type": "code",
   "execution_count": 4,
   "metadata": {},
   "outputs": [],
   "source": [
    "## Applying threshold to the image\n",
    "ret, img1 = cv2.threshold(img1,70,255,0)\n",
    "ret, img2 = cv2.threshold(img2,70,255,0)"
   ]
  },
  {
   "cell_type": "code",
   "execution_count": 5,
   "metadata": {},
   "outputs": [],
   "source": [
    "img3,contours,hierarchy=cv2.findContours(img2,cv2.RETR_TREE,cv2.CHAIN_APPROX_NONE)\n",
    "sorted_contours = sorted(contours,key=cv2.contourArea,reverse=True)\n",
    "template_contour = sorted_contours[1]\n",
    "\n",
    "img4,contours,hierarchy=cv2.findContours(img1,cv2.RETR_TREE,cv2.CHAIN_APPROX_NONE)\n",
    "sorted_contours = sorted(contours,key=cv2.contourArea,reverse=True)[1:]"
   ]
  },
  {
   "cell_type": "code",
   "execution_count": 6,
   "metadata": {},
   "outputs": [
    {
     "name": "stdout",
     "output_type": "stream",
     "text": [
      "0.017390974138049242\n",
      "7.821855682932366e-06\n",
      "0.01994585249470049\n"
     ]
    }
   ],
   "source": [
    "smatch=10\n",
    "for c in sorted_contours:\n",
    "    match = (cv2.matchShapes(template_contour,c,2,0.0))\n",
    "    print(match)\n",
    "    if(match<smatch):\n",
    "        cnt=c\n",
    "        smatch=match\n",
    "        \n",
    "## The more the value of match is close to zero, the more the shape is matched."
   ]
  },
  {
   "cell_type": "code",
   "execution_count": 7,
   "metadata": {},
   "outputs": [],
   "source": [
    "cv2.drawContours(original_image,cnt,-1,(0,0,255),3)\n",
    "cv2.imshow(\"Original image\",original_image)\n",
    "cv2.imshow(\"Template image\",template_image)\n",
    "cv2.waitKey(10000)\n",
    "cv2.destroyAllWindows()"
   ]
  },
  {
   "cell_type": "code",
   "execution_count": null,
   "metadata": {},
   "outputs": [],
   "source": []
  }
 ],
 "metadata": {
  "kernelspec": {
   "display_name": "Python 3",
   "language": "python",
   "name": "python3"
  },
  "language_info": {
   "codemirror_mode": {
    "name": "ipython",
    "version": 3
   },
   "file_extension": ".py",
   "mimetype": "text/x-python",
   "name": "python",
   "nbconvert_exporter": "python",
   "pygments_lexer": "ipython3",
   "version": "3.7.4"
  }
 },
 "nbformat": 4,
 "nbformat_minor": 2
}
