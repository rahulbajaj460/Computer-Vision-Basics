{
 "cells": [
  {
   "cell_type": "code",
   "execution_count": 1,
   "metadata": {},
   "outputs": [],
   "source": [
    "import numpy as np\n",
    "import cv2"
   ]
  },
  {
   "cell_type": "code",
   "execution_count": 2,
   "metadata": {},
   "outputs": [
    {
     "name": "stdout",
     "output_type": "stream",
     "text": [
      "(512, 512, 3)\n"
     ]
    }
   ],
   "source": [
    "img = cv2.imread(\"tiger.png\")\n",
    "print(img.shape)"
   ]
  },
  {
   "cell_type": "code",
   "execution_count": 3,
   "metadata": {},
   "outputs": [],
   "source": [
    "## A matrix of zeros\n",
    "img1 = np.zeros((512,512,3),np.uint8)"
   ]
  },
  {
   "cell_type": "code",
   "execution_count": 4,
   "metadata": {},
   "outputs": [],
   "source": [
    "## Drawing lines\n",
    "cv2.line(img,(10,10),(150,150),(0,0,255),5)\n",
    "cv2.line(img1,(10,10),(150,150),(0,0,255),5)\n",
    "cv2.imshow(\"My image\",img)\n",
    "cv2.imshow(\"Blank image\",img1)\n",
    "cv2.waitKey()\n",
    "cv2.destroyAllWindows()\n",
    "\n",
    "\n",
    "## (10,10) is the point 1 or the starting point.\n",
    "## (150,150) is the point 2 or the ending point.\n",
    "## (0,0,255) is the color in the BGR format.\n",
    "## 5 is the thickness of the line."
   ]
  },
  {
   "cell_type": "code",
   "execution_count": 5,
   "metadata": {},
   "outputs": [],
   "source": [
    "## Drawing arrowed lines\n",
    "cv2.arrowedLine(img,(50,100),(150,100),(0,0,255),5)\n",
    "cv2.arrowedLine(img1,(50,100),(150,100),(0,0,255),5)\n",
    "cv2.imshow(\"My image\",img)\n",
    "cv2.imshow(\"Blank image\",img1)\n",
    "cv2.waitKey()\n",
    "cv2.destroyAllWindows()\n",
    "\n",
    "## (50,100) is the point 1 or the starting point.\n",
    "## (150,100) is the point 2 or the ending point.\n",
    "## (0,0,255) is the color in the BGR format.\n",
    "## 5 is the thickness of the line."
   ]
  },
  {
   "cell_type": "code",
   "execution_count": 6,
   "metadata": {},
   "outputs": [],
   "source": [
    "## Drawing rectangle\n",
    "\n",
    "cv2.rectangle(img,(50,50),(170,150),(0,255,255),5)\n",
    "cv2.rectangle(img1,(50,50),(170,150),(0,255,255),5)\n",
    "cv2.imshow(\"My image\",img)\n",
    "cv2.imshow(\"Blank image\",img1)\n",
    "cv2.waitKey()\n",
    "cv2.destroyAllWindows()\n",
    "\n",
    "## (50,500) is the point 1 or the upper left corner of the rectangle.\n",
    "## (170,150) is the point 2 or the ending point.\n",
    "## (0,255,255) is the color in the BGR format.\n",
    "## 5 is the thickness of the line. If you have value as -1, you will get a color filled shape."
   ]
  },
  {
   "cell_type": "code",
   "execution_count": 7,
   "metadata": {},
   "outputs": [],
   "source": [
    "## Drawing circle\n",
    "\n",
    "cv2.circle(img,(100,100),20,(255,0,0),5)\n",
    "cv2.circle(img1,(100,100),20,(255,0,0),5)\n",
    "cv2.imshow(\"My image\",img)\n",
    "cv2.imshow(\"Blank image\",img1)\n",
    "cv2.waitKey()\n",
    "cv2.destroyAllWindows()\n",
    "\n",
    "## (100,100) is the center of the circle.\n",
    "## 20 is the radius of the circle.\n",
    "## (255,0,0) is the color in the BGR format.\n",
    "## 5 is the thickness of the shape. If you have value as -1, you will get a color filled shape."
   ]
  },
  {
   "cell_type": "markdown",
   "metadata": {},
   "source": [
    "## Putting text on the image"
   ]
  },
  {
   "cell_type": "code",
   "execution_count": 8,
   "metadata": {},
   "outputs": [],
   "source": [
    "cv2.putText(img,\"Shapes\",(100,100),cv2.FONT_HERSHEY_COMPLEX_SMALL,2,(0,255,0))\n",
    "cv2.putText(img1,\"Shapes\",(100,100),cv2.FONT_HERSHEY_COMPLEX_SMALL,2,(0,255,0))\n",
    "cv2.imshow(\"My image\",img)\n",
    "cv2.imshow(\"Blank image\",img1)\n",
    "cv2.waitKey()\n",
    "cv2.destroyAllWindows()\n",
    "\n",
    "## \"Shapes\" is the text to be displayed.\n",
    "## (100,100) is the location from where text should begin.\n",
    "## FONT_HERSHEY_COMPLEX_SMALL is the font type.\n",
    "## 2 is the size of the font.\n",
    "## (0,255,0) is the color of the font in BGR format."
   ]
  },
  {
   "cell_type": "code",
   "execution_count": null,
   "metadata": {},
   "outputs": [],
   "source": []
  }
 ],
 "metadata": {
  "kernelspec": {
   "display_name": "Python 3",
   "language": "python",
   "name": "python3"
  },
  "language_info": {
   "codemirror_mode": {
    "name": "ipython",
    "version": 3
   },
   "file_extension": ".py",
   "mimetype": "text/x-python",
   "name": "python",
   "nbconvert_exporter": "python",
   "pygments_lexer": "ipython3",
   "version": "3.7.4"
  }
 },
 "nbformat": 4,
 "nbformat_minor": 2
}
