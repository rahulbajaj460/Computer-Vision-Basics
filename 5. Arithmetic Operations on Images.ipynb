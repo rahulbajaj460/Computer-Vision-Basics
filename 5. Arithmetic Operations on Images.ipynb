{
 "cells": [
  {
   "cell_type": "code",
   "execution_count": 1,
   "metadata": {},
   "outputs": [],
   "source": [
    "import cv2\n",
    "import numpy as np"
   ]
  },
  {
   "cell_type": "code",
   "execution_count": 2,
   "metadata": {},
   "outputs": [],
   "source": [
    "img1 = cv2.imread(\"tiger.png\")\n",
    "img2 = cv2.imread(\"panda.png\")\n",
    "cv2.imshow(\"Frame1\",img1)\n",
    "cv2.imshow(\"Frame2\",img2)\n",
    "cv2.waitKey(10000)\n",
    "cv2.destroyAllWindows()"
   ]
  },
  {
   "cell_type": "code",
   "execution_count": 3,
   "metadata": {},
   "outputs": [],
   "source": [
    "img4 = img1+100\n",
    "cv2.imshow(\"Frame4\",img4)\n",
    "cv2.waitKey(10000)\n",
    "cv2.destroyAllWindows()\n",
    "\n",
    "## What it does is it adds value 100 to all pixel intensity values like 20 becomes 120, 48 becomes 148 and so on.\n",
    "## But after adding, if the sum exceeds the value 255, then it converts it in the range 0 to 255.\n",
    "## For example, on adding 100 to 225, the value becomes 325 which is greater than 255, so it converts it into the range of 0\n",
    "## to 255 and the value we get is 69 as 30 (255-225) and 70 (0-69)."
   ]
  },
  {
   "cell_type": "code",
   "execution_count": 4,
   "metadata": {},
   "outputs": [],
   "source": [
    "img5 = img1*2\n",
    "cv2.imshow(\"Frame5\",img5)\n",
    "cv2.waitKey(10000)\n",
    "cv2.destroyAllWindows()\n",
    "\n",
    "## What it does is it multiplies value 2 to all pixel intensity values like 20 becomes 40, 48 becomes 96 and so on.\n",
    "## And if the value exceeds beyond 255, it follows the same case as above.\n",
    "## e.g. When 231 is multiplied by 2, it becomes 206 as (231x2=462) which is (462-256=206)."
   ]
  },
  {
   "cell_type": "markdown",
   "metadata": {},
   "source": [
    "###### Let's look at better version of it"
   ]
  },
  {
   "cell_type": "code",
   "execution_count": 5,
   "metadata": {},
   "outputs": [],
   "source": [
    "img6 = cv2.add(img1,100)\n",
    "cv2.imshow(\"Frame6\",img6)\n",
    "cv2.waitKey(10000)\n",
    "cv2.destroyAllWindows()\n",
    "\n",
    "## What it is doing is, it is adding value 100 only to the blue color pixel intensity values.\n",
    "## e.g. if values are [24, 148, 122], it becomes [124, 148, 122].\n",
    "## If after sum, the value exceeds 255 then it becomes 255.\n",
    "## e.g. if values are [231, 148, 122], it becomes [255, 148, 122]."
   ]
  },
  {
   "cell_type": "markdown",
   "metadata": {},
   "source": [
    "This is adding value 100 only to the blue color intensity values. We are getting bluish image. To add values to all pixel intensity values, there is another way."
   ]
  },
  {
   "cell_type": "markdown",
   "metadata": {},
   "source": [
    "## Changing brightness of an image"
   ]
  },
  {
   "cell_type": "code",
   "execution_count": 6,
   "metadata": {},
   "outputs": [],
   "source": [
    "img7 = np.ones(img1.shape,np.uint8)\n",
    "img7 = img7*100\n",
    "img8 = cv2.add(img1,img7)\n",
    "cv2.imshow(\"Frame7\",img8)\n",
    "cv2.waitKey(10000)\n",
    "cv2.destroyAllWindows()\n",
    "\n",
    "## Note - Image shape should be same.\n",
    "## Now, we are doing like if values are [24, 148, 122], it becomes [124, 248, 222]"
   ]
  },
  {
   "cell_type": "markdown",
   "metadata": {},
   "source": [
    "## Combining two images"
   ]
  },
  {
   "cell_type": "code",
   "execution_count": 7,
   "metadata": {},
   "outputs": [],
   "source": [
    "## Note - For combining two images, they should be of same shape.\n",
    "## Here, shape of image 3 is (183,275,3).\n",
    "## And, shape of image 1 is also (183, 275,3).\n",
    "\n",
    "## If shape is not same, then uncomment the below line.\n",
    "## img1 = cv2.resize(img1,(183,275))\n",
    "img9 = cv2.add(img1,img2)\n",
    "cv2.imshow(\"Frame8\",img9)\n",
    "cv2.waitKey(10000)\n",
    "cv2.destroyAllWindows()"
   ]
  },
  {
   "cell_type": "markdown",
   "metadata": {},
   "source": [
    "But we can also decide which image should have more weightage in the color deciding factor."
   ]
  },
  {
   "cell_type": "code",
   "execution_count": 8,
   "metadata": {},
   "outputs": [],
   "source": [
    "img10 = cv2.addWeighted(img1,0.7,img2,0.3,0)\n",
    "cv2.imshow(\"Frame9\",img10)\n",
    "cv2.waitKey(10000)\n",
    "cv2.destroyAllWindows()\n",
    "\n",
    "## Here, we are giving 70% weightage to image 1 and 30% weightage to image 3.\n",
    "## Note - There sum should always be 1.\n",
    "## 0 here is the gamma value which is generally set to 0.\n",
    "## Formula to calculate is :-\n",
    "## value = (image1*weight1 + image2*weight2 + gamma)"
   ]
  },
  {
   "cell_type": "code",
   "execution_count": null,
   "metadata": {},
   "outputs": [],
   "source": []
  }
 ],
 "metadata": {
  "kernelspec": {
   "display_name": "Python 3",
   "language": "python",
   "name": "python3"
  },
  "language_info": {
   "codemirror_mode": {
    "name": "ipython",
    "version": 3
   },
   "file_extension": ".py",
   "mimetype": "text/x-python",
   "name": "python",
   "nbconvert_exporter": "python",
   "pygments_lexer": "ipython3",
   "version": "3.7.4"
  }
 },
 "nbformat": 4,
 "nbformat_minor": 2
}
