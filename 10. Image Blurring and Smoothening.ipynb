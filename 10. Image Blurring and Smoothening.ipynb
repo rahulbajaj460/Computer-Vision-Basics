{
 "cells": [
  {
   "cell_type": "code",
   "execution_count": 1,
   "metadata": {},
   "outputs": [],
   "source": [
    "import cv2\n",
    "import numpy as np"
   ]
  },
  {
   "cell_type": "code",
   "execution_count": 2,
   "metadata": {},
   "outputs": [],
   "source": [
    "img1 = cv2.imread(\"tiger.png\")\n",
    "cv2.imshow(\"Original image\",img1)\n",
    "cv2.waitKey(5000)\n",
    "cv2.destroyAllWindows()"
   ]
  },
  {
   "cell_type": "code",
   "execution_count": 3,
   "metadata": {},
   "outputs": [],
   "source": [
    "kernel_5x5 = (np.ones((5,5),np.uint8))/25\n",
    "img2 = cv2.filter2D(img1,-1,kernel_5x5)\n",
    "cv2.imshow(\"Original image\",img1)\n",
    "cv2.imshow(\"Filter 2D image 5x5\",img2)\n",
    "cv2.waitKey(10000)\n",
    "cv2.destroyAllWindows()\n",
    "\n",
    "## In the filter2D(), we have :-\n",
    "## img1 -> source image\n",
    "## -1 -> same depth as of the source image.\n",
    "## kernel_5x5 -> convolution kernel"
   ]
  },
  {
   "cell_type": "code",
   "execution_count": 4,
   "metadata": {},
   "outputs": [],
   "source": [
    "kernel_9x9 = (np.ones((9,9),np.uint8))/81\n",
    "img3 = cv2.filter2D(img1,-1,kernel_9x9)\n",
    "cv2.imshow(\"Original image\",img1)\n",
    "cv2.imshow(\"Filter 2D image 9x9\",img3)\n",
    "cv2.waitKey(10000)\n",
    "cv2.destroyAllWindows()\n",
    "\n",
    "## Increasing the kernel size will make the image more blurry."
   ]
  },
  {
   "cell_type": "code",
   "execution_count": 5,
   "metadata": {},
   "outputs": [],
   "source": [
    "img4 = cv2.blur(img1,(5,5))\n",
    "cv2.imshow(\"Original image\",img1)\n",
    "cv2.imshow(\"Blur() image\",img4)\n",
    "cv2.waitKey(10000)\n",
    "cv2.destroyAllWindows()\n",
    "\n",
    "## blur() -> Blurs an image using the normalized box filter."
   ]
  },
  {
   "cell_type": "code",
   "execution_count": 6,
   "metadata": {},
   "outputs": [],
   "source": [
    "img5 = cv2.GaussianBlur(img1,(5,5),0)\n",
    "cv2.imshow(\"Original image\",img1)\n",
    "cv2.imshow(\"Gaussian Blur\",img5)\n",
    "cv2.waitKey(10000)\n",
    "cv2.destroyAllWindows()\n",
    "\n",
    "## GaussianBlur() -> blurs an image using gaussian filter."
   ]
  },
  {
   "cell_type": "code",
   "execution_count": 7,
   "metadata": {},
   "outputs": [],
   "source": [
    "img6 = cv2.medianBlur(img1,5)\n",
    "cv2.imshow(\"Original image\",img1)\n",
    "cv2.imshow(\"Median Blur\",img6)\n",
    "cv2.waitKey(10000)\n",
    "cv2.destroyAllWindows()\n",
    "\n",
    "## medianBlur() -> blurs an image using median filter."
   ]
  },
  {
   "cell_type": "code",
   "execution_count": 8,
   "metadata": {},
   "outputs": [],
   "source": [
    "img7 = cv2.bilateralFilter(img1,9,75,75)\n",
    "cv2.imshow(\"Original image\",img1)\n",
    "cv2.imshow(\"Bilateral\",img7)\n",
    "cv2.waitKey(10000)\n",
    "cv2.destroyAllWindows()\n",
    "\n",
    "## bilateralFilter() -> blurs an image using bilateral filter.s"
   ]
  },
  {
   "cell_type": "code",
   "execution_count": null,
   "metadata": {},
   "outputs": [],
   "source": []
  }
 ],
 "metadata": {
  "kernelspec": {
   "display_name": "Python 3",
   "language": "python",
   "name": "python3"
  },
  "language_info": {
   "codemirror_mode": {
    "name": "ipython",
    "version": 3
   },
   "file_extension": ".py",
   "mimetype": "text/x-python",
   "name": "python",
   "nbconvert_exporter": "python",
   "pygments_lexer": "ipython3",
   "version": "3.7.4"
  }
 },
 "nbformat": 4,
 "nbformat_minor": 2
}
