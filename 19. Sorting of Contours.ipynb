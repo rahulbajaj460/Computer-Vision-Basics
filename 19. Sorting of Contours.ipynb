{
 "cells": [
  {
   "cell_type": "code",
   "execution_count": 1,
   "metadata": {},
   "outputs": [],
   "source": [
    "import cv2\n",
    "import numpy as np"
   ]
  },
  {
   "cell_type": "code",
   "execution_count": 2,
   "metadata": {},
   "outputs": [],
   "source": [
    "img1 = cv2.imread(\"shapes.jpg\")\n",
    "cv2.imshow(\"Shapes\",img1)\n",
    "cv2.waitKey(5000)\n",
    "cv2.destroyAllWindows()"
   ]
  },
  {
   "cell_type": "code",
   "execution_count": 3,
   "metadata": {},
   "outputs": [],
   "source": [
    "img2 = cv2.cvtColor(img1,cv2.COLOR_BGR2GRAY)\n",
    "ret, img3 = cv2.threshold(img2,70,255,0)\n",
    "img4,contours,hierarchy = cv2.findContours(img3,cv2.RETR_TREE,cv2.CHAIN_APPROX_NONE)\n",
    "sorted_contours = sorted(contours,key=cv2.contourArea,reverse=True)[1:]\n",
    "## We have used the indexing so that we can avoid the countour from the border of the image"
   ]
  },
  {
   "cell_type": "code",
   "execution_count": 4,
   "metadata": {},
   "outputs": [],
   "source": [
    "for i,cnt in enumerate(sorted_contours):\n",
    "    m = cv2.moments(cnt)\n",
    "    #Finding centers of each contour\n",
    "    cx = int(m[\"m10\"]/m[\"m00\"])\n",
    "    cy = int(m[\"m01\"]/m[\"m00\"])\n",
    "    \n",
    "    cv2.drawContours(img1,[cnt],-1,(0,0,255),3)\n",
    "    cv2.putText(img1,str(i+1),(cx,cy),cv2.FONT_HERSHEY_COMPLEX_SMALL,1,(0,0,255))\n",
    "    cv2.imshow(\"Step by step\",img1)\n",
    "    cv2.waitKey(5000)\n",
    "cv2.destroyAllWindows()"
   ]
  },
  {
   "cell_type": "code",
   "execution_count": 5,
   "metadata": {},
   "outputs": [],
   "source": [
    "cv2.imshow(\"Image\",img1)\n",
    "cv2.waitKey(10000)\n",
    "cv2.destroyAllWindows()"
   ]
  }
 ],
 "metadata": {
  "kernelspec": {
   "display_name": "Python 3",
   "language": "python",
   "name": "python3"
  },
  "language_info": {
   "codemirror_mode": {
    "name": "ipython",
    "version": 3
   },
   "file_extension": ".py",
   "mimetype": "text/x-python",
   "name": "python",
   "nbconvert_exporter": "python",
   "pygments_lexer": "ipython3",
   "version": "3.7.4"
  }
 },
 "nbformat": 4,
 "nbformat_minor": 2
}
