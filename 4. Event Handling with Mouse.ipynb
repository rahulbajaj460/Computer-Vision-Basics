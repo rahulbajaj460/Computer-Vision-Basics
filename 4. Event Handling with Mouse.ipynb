{
 "cells": [
  {
   "cell_type": "code",
   "execution_count": 1,
   "metadata": {},
   "outputs": [],
   "source": [
    "import cv2\n",
    "import numpy as np"
   ]
  },
  {
   "cell_type": "markdown",
   "metadata": {},
   "source": [
    "## Gettings axis values on clicking the image"
   ]
  },
  {
   "cell_type": "code",
   "execution_count": 2,
   "metadata": {},
   "outputs": [],
   "source": [
    "def mouse(event,x,y,flag,parameter):\n",
    "    if(event==cv2.EVENT_LBUTTONDOWN):\n",
    "        str1 = str(x)+\",\"+str(y)\n",
    "        cv2.putText(image,str1,(x,y),cv2.FONT_HERSHEY_COMPLEX_SMALL,1,(0,0,255),2)\n",
    "    cv2.imshow(\"Frame\",image)"
   ]
  },
  {
   "cell_type": "code",
   "execution_count": 3,
   "metadata": {},
   "outputs": [],
   "source": [
    "image = cv2.imread(\"tiger.png\")\n",
    "cv2.imshow(\"Frame\",image)\n",
    "cv2.setMouseCallback(\"Frame\",mouse)\n",
    "cv2.waitKey(5000)\n",
    "cv2.destroyAllWindows()\n",
    "\n",
    "## Clicking on any part of the image will give axis points of the image"
   ]
  },
  {
   "cell_type": "code",
   "execution_count": null,
   "metadata": {},
   "outputs": [],
   "source": []
  },
  {
   "cell_type": "markdown",
   "metadata": {},
   "source": [
    "## Creating rectangles on the image"
   ]
  },
  {
   "cell_type": "code",
   "execution_count": 4,
   "metadata": {},
   "outputs": [],
   "source": [
    "def mouse(event,x,y,flag,parameter):\n",
    "    if(event==cv2.EVENT_LBUTTONDOWN):\n",
    "        points.append((x,y))\n",
    "        if(len(points)==2):\n",
    "            cv2.rectangle(image,points[0],points[1],(0,0,255),2)\n",
    "    cv2.imshow(\"Frame\",image)\n",
    "                \n",
    "## This function checks if two points are clicked and stored then it creates a rectangle using those points."
   ]
  },
  {
   "cell_type": "code",
   "execution_count": 5,
   "metadata": {},
   "outputs": [],
   "source": [
    "image = cv2.imread(\"tiger.png\")\n",
    "points=[]\n",
    "cv2.imshow(\"Frame\",image)\n",
    "cv2.setMouseCallback(\"Frame\",mouse)\n",
    "cv2.waitKey(10000)\n",
    "cv2.destroyAllWindows()\n",
    "\n",
    "## Clicking on two points of the image will store two points into the list.\n",
    "## It will create rectangle corresponding to that points."
   ]
  },
  {
   "cell_type": "code",
   "execution_count": null,
   "metadata": {},
   "outputs": [],
   "source": []
  },
  {
   "cell_type": "markdown",
   "metadata": {},
   "source": [
    "## Hovering Mouse over the image"
   ]
  },
  {
   "cell_type": "code",
   "execution_count": 6,
   "metadata": {},
   "outputs": [],
   "source": [
    "def mouse(event,x,y,flag,parameter):\n",
    "    if(event==cv2.EVENT_MOUSEMOVE):\n",
    "        points.append((x,y))\n",
    "        if(len(points)>=2):\n",
    "            cv2.line(image,points[-2],points[-1],(0,255,0),2)\n",
    "    cv2.imshow(\"Frame\",image)\n",
    "\n",
    "## This function will create lines on the image if the mouse is moved on the image.\n",
    "## Here, points[-2] points to last second element of list and points[-1] points to last element of list."
   ]
  },
  {
   "cell_type": "code",
   "execution_count": 7,
   "metadata": {},
   "outputs": [],
   "source": [
    "image = cv2.imread(\"tiger.png\")\n",
    "points=[]\n",
    "cv2.imshow(\"Frame\",image)\n",
    "cv2.setMouseCallback(\"Frame\",mouse)\n",
    "cv2.waitKey(10000)\n",
    "cv2.destroyAllWindows()\n",
    "\n",
    "## Hovering the mouse over the image will create lines on the image."
   ]
  },
  {
   "cell_type": "code",
   "execution_count": null,
   "metadata": {},
   "outputs": [],
   "source": []
  },
  {
   "cell_type": "markdown",
   "metadata": {},
   "source": [
    "## Getting color codes at points of the image"
   ]
  },
  {
   "cell_type": "code",
   "execution_count": 8,
   "metadata": {},
   "outputs": [],
   "source": [
    "def mouse(event,x,y,flag,parameter):\n",
    "    if(event==cv2.EVENT_RBUTTONDOWN):\n",
    "        blue = image[y,x,0]\n",
    "        green = image[y,x,1]\n",
    "        red = image[y,x,2]\n",
    "        str1 = str(blue)+\",\"+str(green)+\",\"+str(red)\n",
    "        cv2.putText(image,str1,(x,y),cv2.FONT_HERSHEY_COMPLEX_SMALL,1,(255,0,0))\n",
    "        image1 = np.zeros(image.shape,np.uint8)\n",
    "        image1[:] = [blue,green,red]\n",
    "        cv2.imshow(\"frame1\",image1)\n",
    "    cv2.imshow(\"Frame\",image)\n",
    "\n",
    "## This function will tell the color codes at the various points on clicking the right down button only.\n",
    "## As color code values get stored in BGR format, so we have used 0, 1, 2 respectively for blue, green and red color.\n",
    "## Also, a new frame of size of image will open with the color chosen by clicking right down button."
   ]
  },
  {
   "cell_type": "code",
   "execution_count": 9,
   "metadata": {},
   "outputs": [],
   "source": [
    "image = cv2.imread(\"tiger.png\")\n",
    "points=[]\n",
    "cv2.imshow(\"Frame\",image)\n",
    "cv2.setMouseCallback(\"Frame\",mouse)\n",
    "cv2.waitKey(10000)\n",
    "cv2.destroyAllWindows()\n",
    "\n",
    "## Click the right down button of the mouse to get color code values."
   ]
  },
  {
   "cell_type": "code",
   "execution_count": null,
   "metadata": {},
   "outputs": [],
   "source": []
  },
  {
   "cell_type": "markdown",
   "metadata": {},
   "source": [
    "## Cropping the image"
   ]
  },
  {
   "cell_type": "code",
   "execution_count": 10,
   "metadata": {},
   "outputs": [],
   "source": [
    "def mouse(event,x,y,flag,parameter):\n",
    "    if(event==cv2.EVENT_LBUTTONDOWN):\n",
    "        points.append((x,y))\n",
    "        if(len(points)==2):\n",
    "            cv2.rectangle(image,points[0],points[1],(0,0,255),2)\n",
    "            crop_image = image[points[-2][1]:points[-1][1],points[-2][0]:points[-1][0]]\n",
    "            cv2.imshow(\"Cropped image\",crop_image)\n",
    "                \n",
    "## This function checks if two points are clicked and stored then it creates a rectangle using those points.\n",
    "## The reactangle image is then the cropped image which we get as in new frame.\n",
    "## Suppose points are [(120,140), (200,220)]\n",
    "## points[-2][1] points to value 140\n",
    "## points[-1][1] points to value 220\n",
    "## points[-2][0] points to value 120\n",
    "## points[-1][0] points to value 200"
   ]
  },
  {
   "cell_type": "code",
   "execution_count": 11,
   "metadata": {},
   "outputs": [],
   "source": [
    "image = cv2.imread(\"tiger.png\")\n",
    "points=[]\n",
    "cv2.imshow(\"Frame\",image)\n",
    "cv2.setMouseCallback(\"Frame\",mouse)\n",
    "cv2.waitKey(10000)\n",
    "cv2.destroyAllWindows()\n",
    "\n",
    "## Clicking on two points of the image will store two points into the list.\n",
    "## It will create rectangle corresponding to that points.\n",
    "## A new cropped image will be formed from those points in new frame."
   ]
  },
  {
   "cell_type": "code",
   "execution_count": null,
   "metadata": {},
   "outputs": [],
   "source": []
  }
 ],
 "metadata": {
  "kernelspec": {
   "display_name": "Python 3",
   "language": "python",
   "name": "python3"
  },
  "language_info": {
   "codemirror_mode": {
    "name": "ipython",
    "version": 3
   },
   "file_extension": ".py",
   "mimetype": "text/x-python",
   "name": "python",
   "nbconvert_exporter": "python",
   "pygments_lexer": "ipython3",
   "version": "3.7.4"
  }
 },
 "nbformat": 4,
 "nbformat_minor": 2
}
