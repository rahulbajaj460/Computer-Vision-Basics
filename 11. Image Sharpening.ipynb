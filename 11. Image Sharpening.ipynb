{
 "cells": [
  {
   "cell_type": "code",
   "execution_count": 1,
   "metadata": {},
   "outputs": [],
   "source": [
    "import cv2\n",
    "import numpy as np"
   ]
  },
  {
   "cell_type": "code",
   "execution_count": 2,
   "metadata": {},
   "outputs": [],
   "source": [
    "img1 = cv2.imread(\"tiger.png\")\n",
    "cv2.imshow(\"Original image\",img1)\n",
    "cv2.waitKey(5000)\n",
    "cv2.destroyAllWindows()"
   ]
  },
  {
   "cell_type": "code",
   "execution_count": 3,
   "metadata": {},
   "outputs": [],
   "source": [
    "kernel = np.array([[-1,-1,-1],\n",
    "                  [-1,9,-1],\n",
    "                  [-1,-1,-1]])\n",
    "img2 = cv2.filter2D(img1,-1,kernel)\n",
    "cv2.imshow(\"Original image\",img1)\n",
    "cv2.imshow(\"Filter image\",img2)\n",
    "cv2.waitKey(5000)\n",
    "cv2.destroyAllWindows()"
   ]
  },
  {
   "cell_type": "code",
   "execution_count": 4,
   "metadata": {},
   "outputs": [],
   "source": [
    "kernel = np.array([[-1,-1,-1,-1,-1],\n",
    "                   [-1,-1,-1,-1,-1],\n",
    "                   [-1,-1,25,-1,-1],\n",
    "                   [-1,-1,-1,-1,-1],\n",
    "                   [-1,-1,-1,-1,-1]])\n",
    "img3 = cv2.filter2D(img1,-1,kernel)\n",
    "cv2.imshow(\"Original image\",img1)\n",
    "cv2.imshow(\"Filter image\",img3)\n",
    "cv2.waitKey(10000)\n",
    "cv2.destroyAllWindows()"
   ]
  },
  {
   "cell_type": "code",
   "execution_count": null,
   "metadata": {},
   "outputs": [],
   "source": []
  }
 ],
 "metadata": {
  "kernelspec": {
   "display_name": "Python 3",
   "language": "python",
   "name": "python3"
  },
  "language_info": {
   "codemirror_mode": {
    "name": "ipython",
    "version": 3
   },
   "file_extension": ".py",
   "mimetype": "text/x-python",
   "name": "python",
   "nbconvert_exporter": "python",
   "pygments_lexer": "ipython3",
   "version": "3.7.4"
  }
 },
 "nbformat": 4,
 "nbformat_minor": 2
}
