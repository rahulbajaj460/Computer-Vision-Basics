{
 "cells": [
  {
   "cell_type": "code",
   "execution_count": 1,
   "metadata": {},
   "outputs": [],
   "source": [
    "import cv2\n",
    "import numpy as np"
   ]
  },
  {
   "cell_type": "code",
   "execution_count": 2,
   "metadata": {},
   "outputs": [],
   "source": [
    "img1 = cv2.imread(\"tiger.png\")\n",
    "cv2.imshow(\"Frame 1\",img1)\n",
    "cv2.waitKey(10000)\n",
    "cv2.destroyAllWindows()"
   ]
  },
  {
   "cell_type": "code",
   "execution_count": 3,
   "metadata": {},
   "outputs": [],
   "source": [
    "row,col,channels = img1.shape"
   ]
  },
  {
   "cell_type": "code",
   "execution_count": 4,
   "metadata": {},
   "outputs": [],
   "source": [
    "x = 50\n",
    "y = 50\n",
    "\n",
    "## Value of x and y depends on how much translation you want to perform on your image."
   ]
  },
  {
   "cell_type": "code",
   "execution_count": 5,
   "metadata": {},
   "outputs": [],
   "source": [
    "## Translation matrix is defined as\n",
    "##  T =  1  0  x\n",
    "##       0  1  y"
   ]
  },
  {
   "cell_type": "code",
   "execution_count": 6,
   "metadata": {},
   "outputs": [],
   "source": [
    "## Creating the translation matrix\n",
    "T = np.float64([[1,0,x],[0,1,y]])"
   ]
  },
  {
   "cell_type": "code",
   "execution_count": 7,
   "metadata": {},
   "outputs": [],
   "source": [
    "## It is implemented using the function warpAffine()\n",
    "\n",
    "img2 = cv2.warpAffine(img1,T,(col,row))\n",
    "cv2.imshow(\"Translated image\",img2)\n",
    "cv2.waitKey(10000)\n",
    "cv2.destroyAllWindows()"
   ]
  },
  {
   "cell_type": "markdown",
   "metadata": {},
   "source": [
    "## Giving animation to the images"
   ]
  },
  {
   "cell_type": "code",
   "execution_count": 8,
   "metadata": {},
   "outputs": [],
   "source": [
    "x = 0\n",
    "y = 0\n",
    "\n",
    "while(True):\n",
    "    T = np.float64([[1,0,x],[0,1,y]])\n",
    "    img3 = cv2.warpAffine(img1,T,(col,row))\n",
    "    cv2.imshow(\"Initital image\",img1)\n",
    "    cv2.imshow(\"Animated image\",img3)\n",
    "    k = cv2.waitKey(1)\n",
    "    if k == ord(\"q\"):\n",
    "        break\n",
    "    x = x+.1\n",
    "    y = y-.1\n",
    "cv2.destroyAllWindows()\n",
    "\n",
    "\n",
    "## Press q to move out of it.\n",
    "## Decide which animation you want to give to the image.\n",
    "## Depending on that, increment or decrement to the value of x and y."
   ]
  },
  {
   "cell_type": "code",
   "execution_count": null,
   "metadata": {},
   "outputs": [],
   "source": []
  }
 ],
 "metadata": {
  "kernelspec": {
   "display_name": "Python 3",
   "language": "python",
   "name": "python3"
  },
  "language_info": {
   "codemirror_mode": {
    "name": "ipython",
    "version": 3
   },
   "file_extension": ".py",
   "mimetype": "text/x-python",
   "name": "python",
   "nbconvert_exporter": "python",
   "pygments_lexer": "ipython3",
   "version": "3.7.4"
  }
 },
 "nbformat": 4,
 "nbformat_minor": 2
}
