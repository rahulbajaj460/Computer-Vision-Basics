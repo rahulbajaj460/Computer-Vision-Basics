{
 "cells": [
  {
   "cell_type": "code",
   "execution_count": 1,
   "metadata": {},
   "outputs": [],
   "source": [
    "import cv2\n",
    "import numpy as np"
   ]
  },
  {
   "cell_type": "code",
   "execution_count": 2,
   "metadata": {},
   "outputs": [],
   "source": [
    "tiger = cv2.imread(\"tiger.png\")\n",
    "panda = cv2.imread(\"panda.png\")\n",
    "cv2.imshow(\"Tiger\",tiger)\n",
    "cv2.imshow(\"Panda\",panda)\n",
    "cv2.waitKey(5000)\n",
    "cv2.destroyAllWindows()"
   ]
  },
  {
   "cell_type": "code",
   "execution_count": 3,
   "metadata": {},
   "outputs": [],
   "source": [
    "## This function helps in detecting edges in the image\n",
    "def laplacian(image):\n",
    "    gp = [image]                              ## creating list of image\n",
    "    for i in range(6):                        ## applying the function pyrDown on the image for 6 times.\n",
    "        image = cv2.pyrDown(image)\n",
    "        gp.append(image)\n",
    "    lp = [gp[5]]\n",
    "    for i in range(5,0,-1):\n",
    "        gauss_expand = cv2.pyrUp(gp[i])\n",
    "        lap = cv2.subtract(gp[i-1],gauss_expand)\n",
    "        lp.append(lap)\n",
    "    return lp\n"
   ]
  },
  {
   "cell_type": "markdown",
   "metadata": {},
   "source": [
    "### Stacking both images together"
   ]
  },
  {
   "cell_type": "code",
   "execution_count": 4,
   "metadata": {},
   "outputs": [],
   "source": [
    "panda_tiger = np.hstack((panda[:,:256],tiger[:,256:]))\n",
    "cv2.imshow(\"Panda Tiger\",panda_tiger)\n",
    "cv2.waitKey(10000)\n",
    "cv2.destroyAllWindows()"
   ]
  },
  {
   "cell_type": "code",
   "execution_count": 5,
   "metadata": {},
   "outputs": [],
   "source": [
    "lp_panda = []\n",
    "lp_tiger = []"
   ]
  },
  {
   "cell_type": "code",
   "execution_count": 6,
   "metadata": {},
   "outputs": [],
   "source": [
    "lp_panda = laplacian(panda)\n",
    "lp_tiger = laplacian(tiger)"
   ]
  },
  {
   "cell_type": "code",
   "execution_count": 7,
   "metadata": {},
   "outputs": [],
   "source": [
    "stack = []\n",
    "for panda_lap, tiger_lap in zip(lp_panda, lp_tiger):\n",
    "    col, row, ch = panda_lap.shape\n",
    "    lap = np.hstack((panda_lap[:,:int(col/2)],tiger_lap[:,int(col/2):]))\n",
    "    stack.append(lap)"
   ]
  },
  {
   "cell_type": "code",
   "execution_count": 8,
   "metadata": {},
   "outputs": [],
   "source": [
    "recons = stack[0]\n",
    "for i in range(1,6):\n",
    "    recons = cv2.pyrUp(recons)\n",
    "    recons = cv2.add(stack[i],recons)"
   ]
  },
  {
   "cell_type": "code",
   "execution_count": 9,
   "metadata": {},
   "outputs": [],
   "source": [
    "cv2.imshow(\"Hstack image\",panda_tiger)\n",
    "cv2.imshow(\"Final image\",recons)\n",
    "cv2.waitKey(10000)\n",
    "cv2.destroyAllWindows()"
   ]
  },
  {
   "cell_type": "code",
   "execution_count": null,
   "metadata": {},
   "outputs": [],
   "source": []
  }
 ],
 "metadata": {
  "kernelspec": {
   "display_name": "Python 3",
   "language": "python",
   "name": "python3"
  },
  "language_info": {
   "codemirror_mode": {
    "name": "ipython",
    "version": 3
   },
   "file_extension": ".py",
   "mimetype": "text/x-python",
   "name": "python",
   "nbconvert_exporter": "python",
   "pygments_lexer": "ipython3",
   "version": "3.7.4"
  }
 },
 "nbformat": 4,
 "nbformat_minor": 2
}
