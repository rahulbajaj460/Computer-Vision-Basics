{
 "cells": [
  {
   "cell_type": "code",
   "execution_count": 1,
   "metadata": {},
   "outputs": [],
   "source": [
    "import cv2\n",
    "import numpy as np"
   ]
  },
  {
   "cell_type": "code",
   "execution_count": 2,
   "metadata": {},
   "outputs": [],
   "source": [
    "img1 = cv2.imread(\"tiger.png\")\n",
    "img1 = cv2.cvtColor(img1,cv2.COLOR_BGR2GRAY)\n",
    "cv2.imshow(\"Original image\",img1)\n",
    "cv2.waitKey(5000)\n",
    "cv2.destroyAllWindows()"
   ]
  },
  {
   "cell_type": "code",
   "execution_count": 3,
   "metadata": {},
   "outputs": [],
   "source": [
    "ret, img2 = cv2.threshold(img1,100,255,cv2.THRESH_BINARY)\n",
    "cv2.imshow(\"Original image\",img1)\n",
    "cv2.imshow(\"Binary Threshold\",img2)\n",
    "cv2.waitKey(10000)\n",
    "cv2.destroyAllWindows()\n",
    "\n",
    "## What this function does is if pixel value is below 100, it makes it 0 and above 100, it makes it 255.\n",
    "## We can change the values 100 and 255 as per our needs."
   ]
  },
  {
   "cell_type": "code",
   "execution_count": 4,
   "metadata": {},
   "outputs": [],
   "source": [
    "ret, img3 = cv2.threshold(img1,100,255,cv2.THRESH_BINARY_INV)\n",
    "cv2.imshow(\"Original image\",img1)\n",
    "cv2.imshow(\"Binary Inverse Threshold\",img3)\n",
    "cv2.waitKey(10000)\n",
    "cv2.destroyAllWindows()\n",
    "\n",
    "## It is completely opposite to Binary threshold."
   ]
  },
  {
   "cell_type": "code",
   "execution_count": 5,
   "metadata": {},
   "outputs": [],
   "source": [
    "ret, img4 = cv2.threshold(img1,140,255,cv2.THRESH_TRUNC)\n",
    "cv2.imshow(\"Original image\",img1)\n",
    "cv2.imshow(\"Trunc Threshold\",img4)\n",
    "cv2.waitKey(10000)\n",
    "cv2.destroyAllWindows()\n",
    "\n",
    "## This function make value as 140 if the pixel value is above 140 and if the value is less than 140, it remains same."
   ]
  },
  {
   "cell_type": "code",
   "execution_count": 6,
   "metadata": {},
   "outputs": [],
   "source": [
    "ret, img5 = cv2.threshold(img1,140,255,cv2.THRESH_TOZERO)\n",
    "cv2.imshow(\"Original image\",img1)\n",
    "cv2.imshow(\"Tozero Threshold\",img5)\n",
    "cv2.waitKey(10000)\n",
    "cv2.destroyAllWindows()\n",
    "\n",
    "## This function makes value as 0 if it is less than 140 and the rest remains the same."
   ]
  },
  {
   "cell_type": "code",
   "execution_count": 7,
   "metadata": {},
   "outputs": [],
   "source": [
    "ret, img6 = cv2.threshold(img1,100,255,cv2.THRESH_TOZERO_INV)\n",
    "cv2.imshow(\"Original image\",img1)\n",
    "cv2.imshow(\"Binary Threshold\",img6)\n",
    "cv2.waitKey(10000)\n",
    "cv2.destroyAllWindows()\n",
    "\n",
    "## This function makes value as 0 if pixel value is greater than 140 and the rest remains the same."
   ]
  },
  {
   "cell_type": "markdown",
   "metadata": {},
   "source": [
    "#### We have used Gray scale images here, but we can also use colored images as well. Usually, we don't get much information from colored images. So, we generally use Gray colored images."
   ]
  },
  {
   "cell_type": "code",
   "execution_count": null,
   "metadata": {},
   "outputs": [],
   "source": []
  }
 ],
 "metadata": {
  "kernelspec": {
   "display_name": "Python 3",
   "language": "python",
   "name": "python3"
  },
  "language_info": {
   "codemirror_mode": {
    "name": "ipython",
    "version": 3
   },
   "file_extension": ".py",
   "mimetype": "text/x-python",
   "name": "python",
   "nbconvert_exporter": "python",
   "pygments_lexer": "ipython3",
   "version": "3.7.4"
  }
 },
 "nbformat": 4,
 "nbformat_minor": 2
}
